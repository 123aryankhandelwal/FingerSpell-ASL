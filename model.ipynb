{
 "cells": [
  {
   "cell_type": "code",
   "execution_count": 1,
   "source": [
    "import tensorflow as tf\r\n",
    "from tensorflow import keras\r\n",
    "import numpy as np\r\n",
    "from keras.layers import Conv2D, Dense, Flatten, Dropout, MaxPooling2D\r\n",
    "from keras.models import Sequential, save_model\r\n",
    "from keras.utils import np_utils\r\n",
    "from keras.callbacks import ModelCheckpoint\r\n",
    "from sklearn.model_selection import train_test_split\r\n",
    "from sklearn.utils import shuffle\r\n",
    "import os\r\n",
    "import cv2"
   ],
   "outputs": [],
   "metadata": {}
  },
  {
   "cell_type": "code",
   "execution_count": 2,
   "source": [
    "path = 'preprocessed_new'"
   ],
   "outputs": [],
   "metadata": {}
  },
  {
   "cell_type": "code",
   "execution_count": 3,
   "source": [
    "gestures =os.listdir(path)\r\n",
    "print(gestures)"
   ],
   "outputs": [
    {
     "output_type": "stream",
     "name": "stdout",
     "text": [
      "['0', '1', '2', '3', '4', '5', '6', '7', '8', '9', 'A', 'B', 'Best of luck', 'C', 'D', 'E', 'F', 'G', 'H', 'I', 'I Love you', 'J', 'K', 'L', 'Love', 'M', 'N', 'O', 'P', 'Q', 'R', 'S', 'T', 'U', 'V', 'W', 'X', 'Y', 'Z']\n"
     ]
    }
   ],
   "metadata": {}
  },
  {
   "cell_type": "code",
   "execution_count": 4,
   "source": [
    "dict_labels = {\r\n",
    "    '0':1,\r\n",
    "    '1':2,\r\n",
    "    '2':3,\r\n",
    "    '3':4,\r\n",
    "    '4':5,\r\n",
    "    '5':6,\r\n",
    "    '6':7,\r\n",
    "    '7':8,\r\n",
    "    '8':9,\r\n",
    "    '9':10,\r\n",
    "    'A':11,\r\n",
    "    'B':12,\r\n",
    "    'Best of luck':13,\r\n",
    "    'C':14,\r\n",
    "    'D':15,\r\n",
    "    'E':16,\r\n",
    "    'F':17,\r\n",
    "    'G':18,\r\n",
    "    'H':19,\r\n",
    "    'I':20,\r\n",
    "    'I Love you':21,\r\n",
    "    'J':22,\r\n",
    "    'K':23,\r\n",
    "    'L':24,\r\n",
    "    'Love':25,\r\n",
    "    'M':26,\r\n",
    "    'N':27,\r\n",
    "    'O':28,\r\n",
    "    'P':29,\r\n",
    "    'Q':30,\r\n",
    "    'R':31,\r\n",
    "    'S':32,\r\n",
    "    'T':33,\r\n",
    "    'U':34,\r\n",
    "    'V':35,\r\n",
    "    'W':36,\r\n",
    "    'X':37,\r\n",
    "    'Y':38,\r\n",
    "    'Z':39\r\n",
    "    \r\n",
    "}"
   ],
   "outputs": [],
   "metadata": {}
  },
  {
   "cell_type": "code",
   "execution_count": 5,
   "source": [
    "print(list(dict_labels.keys()))\r\n",
    "print(list(dict_labels.values()))"
   ],
   "outputs": [
    {
     "output_type": "stream",
     "name": "stdout",
     "text": [
      "['0', '1', '2', '3', '4', '5', '6', '7', '8', '9', 'A', 'B', 'Best of luck', 'C', 'D', 'E', 'F', 'G', 'H', 'I', 'I Love you', 'J', 'K', 'L', 'Love', 'M', 'N', 'O', 'P', 'Q', 'R', 'S', 'T', 'U', 'V', 'W', 'X', 'Y', 'Z']\n",
      "[1, 2, 3, 4, 5, 6, 7, 8, 9, 10, 11, 12, 13, 14, 15, 16, 17, 18, 19, 20, 21, 22, 23, 24, 25, 26, 27, 28, 29, 30, 31, 32, 33, 34, 35, 36, 37, 38, 39]\n"
     ]
    }
   ],
   "metadata": {}
  },
  {
   "cell_type": "code",
   "execution_count": 6,
   "source": [
    "x, y = [], []\r\n",
    "for ix in gestures:\r\n",
    "    images = os.listdir(path + '/' + str(ix))\r\n",
    "    for cx in images:\r\n",
    "        img_path = path + '/'+ str(ix) + '/' + cx\r\n",
    "        img = cv2.imread(img_path, 0)\r\n",
    "        img = img.reshape((50,50,1))\r\n",
    "        img = img/255.0\r\n",
    "        x.append(img)\r\n",
    "        y.append(dict_labels.get(ix))"
   ],
   "outputs": [],
   "metadata": {}
  },
  {
   "cell_type": "code",
   "execution_count": 7,
   "source": [
    "X = np.array(x)\r\n",
    "Y = np.array(y)\r\n",
    "Y = np_utils.to_categorical(Y)\r\n",
    "Y.shape"
   ],
   "outputs": [
    {
     "output_type": "execute_result",
     "data": {
      "text/plain": [
       "(93600, 40)"
      ]
     },
     "metadata": {},
     "execution_count": 7
    }
   ],
   "metadata": {}
  },
  {
   "cell_type": "code",
   "execution_count": 8,
   "source": [
    "import seaborn as sns\r\n",
    "import matplotlib.pyplot as plt"
   ],
   "outputs": [],
   "metadata": {}
  },
  {
   "cell_type": "code",
   "execution_count": 9,
   "source": [
    "plt.figure(figsize = (18,8))\r\n",
    "sns.countplot(x=list(dict_labels.keys()))"
   ],
   "outputs": [
    {
     "output_type": "execute_result",
     "data": {
      "text/plain": [
       "<AxesSubplot:ylabel='count'>"
      ]
     },
     "metadata": {},
     "execution_count": 9
    },
    {
     "output_type": "display_data",
     "data": {
      "image/png": "[encoded data removed]",
      "text/plain": [
       "<Figure size 1296x576 with 1 Axes>"
      ]
     },
     "metadata": {
      "needs_background": "light"
     }
    }
   ],
   "metadata": {}
  },
  {
   "cell_type": "code",
   "execution_count": 10,
   "source": [
    "Y.shape"
   ],
   "outputs": [
    {
     "output_type": "execute_result",
     "data": {
      "text/plain": [
       "(93600, 40)"
      ]
     },
     "metadata": {},
     "execution_count": 10
    }
   ],
   "metadata": {}
  },
  {
   "cell_type": "code",
   "execution_count": 11,
   "source": [
    "categories = Y.shape[1]"
   ],
   "outputs": [],
   "metadata": {}
  },
  {
   "cell_type": "code",
   "execution_count": 12,
   "source": [
    "X, Y = shuffle(X, Y, random_state=0)"
   ],
   "outputs": [],
   "metadata": {}
  },
  {
   "cell_type": "code",
   "execution_count": 13,
   "source": [
    "X.shape"
   ],
   "outputs": [
    {
     "output_type": "execute_result",
     "data": {
      "text/plain": [
       "(93600, 50, 50, 1)"
      ]
     },
     "metadata": {},
     "execution_count": 13
    }
   ],
   "metadata": {}
  },
  {
   "cell_type": "code",
   "execution_count": 14,
   "source": [
    "X_train, X_test, Y_train, Y_test = train_test_split(X, Y, test_size=0.3)"
   ],
   "outputs": [],
   "metadata": {}
  },
  {
   "cell_type": "code",
   "execution_count": 15,
   "source": [
    "print(X_train.shape, X_test.shape)\r\n",
    "print(Y_train.shape, Y_test.shape)\r\n",
    "print(X_test)\r\n",
    "print(Y_test)"
   ],
   "outputs": [
    {
     "output_type": "stream",
     "name": "stdout",
     "text": [
      "(65520, 50, 50, 1) (28080, 50, 50, 1)\n",
      "(65520, 40) (28080, 40)\n",
      "[[[[0.        ]\n",
      "   [0.        ]\n",
      "   [0.        ]\n",
      "   ...\n",
      "   [0.        ]\n",
      "   [0.        ]\n",
      "   [0.        ]]\n",
      "\n",
      "  [[0.        ]\n",
      "   [0.        ]\n",
      "   [0.        ]\n",
      "   ...\n",
      "   [0.        ]\n",
      "   [0.        ]\n",
      "   [0.        ]]\n",
      "\n",
      "  [[0.        ]\n",
      "   [0.        ]\n",
      "   [0.        ]\n",
      "   ...\n",
      "   [0.        ]\n",
      "   [0.        ]\n",
      "   [0.        ]]\n",
      "\n",
      "  ...\n",
      "\n",
      "  [[0.        ]\n",
      "   [0.        ]\n",
      "   [0.        ]\n",
      "   ...\n",
      "   [0.        ]\n",
      "   [0.        ]\n",
      "   [0.        ]]\n",
      "\n",
      "  [[0.        ]\n",
      "   [0.        ]\n",
      "   [0.        ]\n",
      "   ...\n",
      "   [0.        ]\n",
      "   [0.        ]\n",
      "   [0.        ]]\n",
      "\n",
      "  [[0.        ]\n",
      "   [0.        ]\n",
      "   [0.        ]\n",
      "   ...\n",
      "   [0.        ]\n",
      "   [0.        ]\n",
      "   [0.        ]]]\n",
      "\n",
      "\n",
      " [[[0.        ]\n",
      "   [0.        ]\n",
      "   [0.        ]\n",
      "   ...\n",
      "   [0.        ]\n",
      "   [0.        ]\n",
      "   [0.        ]]\n",
      "\n",
      "  [[0.        ]\n",
      "   [0.        ]\n",
      "   [0.        ]\n",
      "   ...\n",
      "   [0.        ]\n",
      "   [0.        ]\n",
      "   [0.        ]]\n",
      "\n",
      "  [[0.        ]\n",
      "   [0.        ]\n",
      "   [0.        ]\n",
      "   ...\n",
      "   [0.        ]\n",
      "   [0.        ]\n",
      "   [0.        ]]\n",
      "\n",
      "  ...\n",
      "\n",
      "  [[0.        ]\n",
      "   [0.        ]\n",
      "   [0.        ]\n",
      "   ...\n",
      "   [0.        ]\n",
      "   [0.        ]\n",
      "   [0.        ]]\n",
      "\n",
      "  [[0.        ]\n",
      "   [0.        ]\n",
      "   [0.        ]\n",
      "   ...\n",
      "   [0.        ]\n",
      "   [0.        ]\n",
      "   [0.        ]]\n",
      "\n",
      "  [[0.        ]\n",
      "   [0.        ]\n",
      "   [0.        ]\n",
      "   ...\n",
      "   [0.        ]\n",
      "   [0.        ]\n",
      "   [0.        ]]]\n",
      "\n",
      "\n",
      " [[[0.        ]\n",
      "   [0.        ]\n",
      "   [0.        ]\n",
      "   ...\n",
      "   [0.        ]\n",
      "   [0.        ]\n",
      "   [0.        ]]\n",
      "\n",
      "  [[0.        ]\n",
      "   [0.        ]\n",
      "   [0.        ]\n",
      "   ...\n",
      "   [0.00784314]\n",
      "   [0.        ]\n",
      "   [0.        ]]\n",
      "\n",
      "  [[0.        ]\n",
      "   [0.        ]\n",
      "   [0.        ]\n",
      "   ...\n",
      "   [0.        ]\n",
      "   [0.        ]\n",
      "   [0.        ]]\n",
      "\n",
      "  ...\n",
      "\n",
      "  [[0.        ]\n",
      "   [0.        ]\n",
      "   [0.        ]\n",
      "   ...\n",
      "   [0.        ]\n",
      "   [0.        ]\n",
      "   [0.        ]]\n",
      "\n",
      "  [[0.        ]\n",
      "   [0.        ]\n",
      "   [0.        ]\n",
      "   ...\n",
      "   [0.        ]\n",
      "   [0.        ]\n",
      "   [0.        ]]\n",
      "\n",
      "  [[0.        ]\n",
      "   [0.        ]\n",
      "   [0.        ]\n",
      "   ...\n",
      "   [0.        ]\n",
      "   [0.        ]\n",
      "   [0.        ]]]\n",
      "\n",
      "\n",
      " ...\n",
      "\n",
      "\n",
      " [[[0.        ]\n",
      "   [0.        ]\n",
      "   [0.        ]\n",
      "   ...\n",
      "   [0.        ]\n",
      "   [0.        ]\n",
      "   [0.        ]]\n",
      "\n",
      "  [[0.        ]\n",
      "   [0.        ]\n",
      "   [0.        ]\n",
      "   ...\n",
      "   [0.        ]\n",
      "   [0.        ]\n",
      "   [0.        ]]\n",
      "\n",
      "  [[0.        ]\n",
      "   [0.        ]\n",
      "   [0.        ]\n",
      "   ...\n",
      "   [0.        ]\n",
      "   [0.        ]\n",
      "   [0.        ]]\n",
      "\n",
      "  ...\n",
      "\n",
      "  [[0.        ]\n",
      "   [0.        ]\n",
      "   [0.        ]\n",
      "   ...\n",
      "   [0.        ]\n",
      "   [0.        ]\n",
      "   [0.        ]]\n",
      "\n",
      "  [[0.        ]\n",
      "   [0.        ]\n",
      "   [0.        ]\n",
      "   ...\n",
      "   [0.        ]\n",
      "   [0.        ]\n",
      "   [0.        ]]\n",
      "\n",
      "  [[0.        ]\n",
      "   [0.        ]\n",
      "   [0.        ]\n",
      "   ...\n",
      "   [0.        ]\n",
      "   [0.        ]\n",
      "   [0.        ]]]\n",
      "\n",
      "\n",
      " [[[0.        ]\n",
      "   [0.        ]\n",
      "   [0.        ]\n",
      "   ...\n",
      "   [0.        ]\n",
      "   [0.        ]\n",
      "   [0.        ]]\n",
      "\n",
      "  [[0.        ]\n",
      "   [0.        ]\n",
      "   [0.        ]\n",
      "   ...\n",
      "   [0.        ]\n",
      "   [0.        ]\n",
      "   [0.        ]]\n",
      "\n",
      "  [[0.        ]\n",
      "   [0.        ]\n",
      "   [0.        ]\n",
      "   ...\n",
      "   [0.        ]\n",
      "   [0.        ]\n",
      "   [0.        ]]\n",
      "\n",
      "  ...\n",
      "\n",
      "  [[0.        ]\n",
      "   [0.        ]\n",
      "   [0.        ]\n",
      "   ...\n",
      "   [0.        ]\n",
      "   [0.        ]\n",
      "   [0.        ]]\n",
      "\n",
      "  [[0.        ]\n",
      "   [0.        ]\n",
      "   [0.        ]\n",
      "   ...\n",
      "   [0.        ]\n",
      "   [0.        ]\n",
      "   [0.        ]]\n",
      "\n",
      "  [[0.        ]\n",
      "   [0.        ]\n",
      "   [0.        ]\n",
      "   ...\n",
      "   [0.        ]\n",
      "   [0.        ]\n",
      "   [0.        ]]]\n",
      "\n",
      "\n",
      " [[[0.        ]\n",
      "   [0.        ]\n",
      "   [0.        ]\n",
      "   ...\n",
      "   [0.        ]\n",
      "   [0.        ]\n",
      "   [0.        ]]\n",
      "\n",
      "  [[0.        ]\n",
      "   [0.        ]\n",
      "   [0.        ]\n",
      "   ...\n",
      "   [0.        ]\n",
      "   [0.        ]\n",
      "   [0.        ]]\n",
      "\n",
      "  [[0.        ]\n",
      "   [0.        ]\n",
      "   [0.        ]\n",
      "   ...\n",
      "   [0.        ]\n",
      "   [0.        ]\n",
      "   [0.        ]]\n",
      "\n",
      "  ...\n",
      "\n",
      "  [[0.        ]\n",
      "   [0.        ]\n",
      "   [0.        ]\n",
      "   ...\n",
      "   [0.        ]\n",
      "   [0.        ]\n",
      "   [0.        ]]\n",
      "\n",
      "  [[0.        ]\n",
      "   [0.        ]\n",
      "   [0.        ]\n",
      "   ...\n",
      "   [0.        ]\n",
      "   [0.        ]\n",
      "   [0.        ]]\n",
      "\n",
      "  [[0.        ]\n",
      "   [0.        ]\n",
      "   [0.        ]\n",
      "   ...\n",
      "   [0.        ]\n",
      "   [0.        ]\n",
      "   [0.        ]]]]\n",
      "[[0. 0. 0. ... 0. 0. 0.]\n",
      " [0. 0. 0. ... 0. 0. 0.]\n",
      " [0. 0. 0. ... 0. 0. 0.]\n",
      " ...\n",
      " [0. 0. 0. ... 0. 0. 0.]\n",
      " [0. 0. 0. ... 0. 0. 0.]\n",
      " [0. 0. 0. ... 0. 0. 0.]]\n"
     ]
    }
   ],
   "metadata": {}
  },
  {
   "cell_type": "code",
   "execution_count": 16,
   "source": [
    "model = Sequential()\r\n",
    "model.add(Conv2D(64, kernel_size=(3,3), activation = 'relu', input_shape=(50,50,1) ))\r\n",
    "model.add(MaxPooling2D(pool_size = (2, 2)))\r\n",
    "\r\n",
    "model.add(Conv2D(64, kernel_size = (3, 3), activation = 'relu'))\r\n",
    "model.add(MaxPooling2D(pool_size = (2, 2)))\r\n",
    "\r\n",
    "model.add(Conv2D(64, kernel_size = (3, 3), activation = 'relu'))\r\n",
    "model.add(MaxPooling2D(pool_size = (2, 2)))\r\n",
    "\r\n",
    "model.add(Flatten())\r\n",
    "model.add(Dense(128, activation = 'relu'))\r\n",
    "model.add(Dropout(0.20))\r\n",
    "model.add(Dense(categories, activation = 'softmax'))\r\n",
    "\r\n",
    "model.summary()"
   ],
   "outputs": [
    {
     "output_type": "stream",
     "name": "stdout",
     "text": [
      "Model: \"sequential\"\n",
      "_________________________________________________________________\n",
      "Layer (type)                 Output Shape              Param #   \n",
      "=================================================================\n",
      "conv2d (Conv2D)              (None, 48, 48, 64)        640       \n",
      "_________________________________________________________________\n",
      "max_pooling2d (MaxPooling2D) (None, 24, 24, 64)        0         \n",
      "_________________________________________________________________\n",
      "conv2d_1 (Conv2D)            (None, 22, 22, 64)        36928     \n",
      "_________________________________________________________________\n",
      "max_pooling2d_1 (MaxPooling2 (None, 11, 11, 64)        0         \n",
      "_________________________________________________________________\n",
      "conv2d_2 (Conv2D)            (None, 9, 9, 64)          36928     \n",
      "_________________________________________________________________\n",
      "max_pooling2d_2 (MaxPooling2 (None, 4, 4, 64)          0         \n",
      "_________________________________________________________________\n",
      "flatten (Flatten)            (None, 1024)              0         \n",
      "_________________________________________________________________\n",
      "dense (Dense)                (None, 128)               131200    \n",
      "_________________________________________________________________\n",
      "dropout (Dropout)            (None, 128)               0         \n",
      "_________________________________________________________________\n",
      "dense_1 (Dense)              (None, 40)                5160      \n",
      "=================================================================\n",
      "Total params: 210,856\n",
      "Trainable params: 210,856\n",
      "Non-trainable params: 0\n",
      "_________________________________________________________________\n"
     ]
    }
   ],
   "metadata": {}
  },
  {
   "cell_type": "code",
   "execution_count": 17,
   "source": [
    "# model.compile(optimizer='Adam', metrics=['accuracy'], loss='categorical_crossentropy')\r\n",
    "model.compile(\r\n",
    "    optimizer=keras.optimizers.RMSprop(),  # Optimizer\r\n",
    "    # Loss function to minimize\r\n",
    "    loss='categorical_crossentropy',\r\n",
    "    # List of metrics to monitor\r\n",
    "    metrics=['accuracy'],\r\n",
    ")"
   ],
   "outputs": [],
   "metadata": {}
  },
  {
   "cell_type": "code",
   "execution_count": null,
   "source": [],
   "outputs": [],
   "metadata": {}
  },
  {
   "cell_type": "code",
   "execution_count": 18,
   "source": [
    "\r\n",
    "# history = model.fit(X_train, Y_train, batch_size=128, epochs=50, validation_data=[X_test, Y_test])\r\n",
    "history = model.fit(X_train,Y_train,batch_size=128,epochs=50,\r\n",
    "    # We pass some validation for\r\n",
    "    # monitoring validation loss and metrics\r\n",
    "    # at the end of each epoch\r\n",
    "    validation_data=(X_test, Y_test),\r\n",
    ")"
   ],
   "outputs": [
    {
     "output_type": "stream",
     "name": "stdout",
     "text": [
      "Epoch 1/50\n",
      "512/512 [==============================] - 205s 399ms/step - loss: 0.2394 - accuracy: 0.9330 - val_loss: 0.0042 - val_accuracy: 0.9985\n",
      "Epoch 2/50\n",
      "512/512 [==============================] - 204s 399ms/step - loss: 0.0071 - accuracy: 0.9982 - val_loss: 0.0012 - val_accuracy: 0.9996\n",
      "Epoch 3/50\n",
      "512/512 [==============================] - 201s 392ms/step - loss: 0.0033 - accuracy: 0.9990 - val_loss: 9.4843e-04 - val_accuracy: 0.9998\n",
      "Epoch 4/50\n",
      "512/512 [==============================] - 203s 396ms/step - loss: 0.0021 - accuracy: 0.9994 - val_loss: 0.0014 - val_accuracy: 0.9998\n",
      "Epoch 5/50\n",
      "512/512 [==============================] - 201s 392ms/step - loss: 0.0021 - accuracy: 0.9996 - val_loss: 2.8842e-04 - val_accuracy: 0.9999\n",
      "Epoch 6/50\n",
      "512/512 [==============================] - 200s 391ms/step - loss: 0.0013 - accuracy: 0.9995 - val_loss: 0.0014 - val_accuracy: 0.9996\n",
      "Epoch 7/50\n",
      "512/512 [==============================] - 190s 371ms/step - loss: 0.0019 - accuracy: 0.9995 - val_loss: 9.4746e-04 - val_accuracy: 0.9997\n",
      "Epoch 8/50\n",
      "512/512 [==============================] - 189s 368ms/step - loss: 8.3372e-04 - accuracy: 0.9997 - val_loss: 0.0011 - val_accuracy: 0.9998\n",
      "Epoch 9/50\n",
      "512/512 [==============================] - 184s 359ms/step - loss: 9.5865e-04 - accuracy: 0.9998 - val_loss: 6.7777e-04 - val_accuracy: 0.9998\n",
      "Epoch 10/50\n",
      "512/512 [==============================] - 182s 356ms/step - loss: 0.0010 - accuracy: 0.9997 - val_loss: 2.4742e-04 - val_accuracy: 0.9999\n",
      "Epoch 11/50\n",
      "512/512 [==============================] - 185s 362ms/step - loss: 8.4950e-04 - accuracy: 0.9999 - val_loss: 4.3788e-04 - val_accuracy: 0.9999\n",
      "Epoch 12/50\n",
      "512/512 [==============================] - 179s 350ms/step - loss: 0.0010 - accuracy: 0.9998 - val_loss: 4.0085e-04 - val_accuracy: 0.9999\n",
      "Epoch 13/50\n",
      "512/512 [==============================] - 176s 344ms/step - loss: 9.9357e-04 - accuracy: 0.9998 - val_loss: 4.5078e-04 - val_accuracy: 0.9999\n",
      "Epoch 14/50\n",
      "512/512 [==============================] - 180s 352ms/step - loss: 3.2192e-04 - accuracy: 0.9999 - val_loss: 0.0012 - val_accuracy: 0.9998\n",
      "Epoch 15/50\n",
      "512/512 [==============================] - 174s 340ms/step - loss: 4.4318e-04 - accuracy: 0.9999 - val_loss: 4.0152e-05 - val_accuracy: 1.0000\n",
      "Epoch 16/50\n",
      "512/512 [==============================] - 170s 333ms/step - loss: 6.0418e-04 - accuracy: 0.9999 - val_loss: 0.0013 - val_accuracy: 0.9998\n",
      "Epoch 17/50\n",
      "512/512 [==============================] - 171s 335ms/step - loss: 5.0783e-04 - accuracy: 0.9999 - val_loss: 1.7294e-04 - val_accuracy: 0.9999\n",
      "Epoch 18/50\n",
      "512/512 [==============================] - 174s 340ms/step - loss: 5.2573e-04 - accuracy: 0.9999 - val_loss: 2.7080e-04 - val_accuracy: 0.9999\n",
      "Epoch 19/50\n",
      "512/512 [==============================] - 170s 332ms/step - loss: 7.1809e-04 - accuracy: 0.9999 - val_loss: 9.7109e-04 - val_accuracy: 0.9999\n",
      "Epoch 20/50\n",
      "512/512 [==============================] - 170s 332ms/step - loss: 3.4726e-04 - accuracy: 0.9999 - val_loss: 1.9132e-05 - val_accuracy: 1.0000\n",
      "Epoch 21/50\n",
      "512/512 [==============================] - 172s 336ms/step - loss: 3.1666e-04 - accuracy: 0.9999 - val_loss: 4.1041e-04 - val_accuracy: 1.0000\n",
      "Epoch 22/50\n",
      "512/512 [==============================] - 170s 332ms/step - loss: 3.0291e-04 - accuracy: 0.9999 - val_loss: 0.0018 - val_accuracy: 0.9999\n",
      "Epoch 23/50\n",
      "512/512 [==============================] - 171s 333ms/step - loss: 0.0011 - accuracy: 0.9998 - val_loss: 8.5642e-04 - val_accuracy: 0.9999\n",
      "Epoch 24/50\n",
      "512/512 [==============================] - 170s 331ms/step - loss: 1.3192e-04 - accuracy: 0.9999 - val_loss: 0.0023 - val_accuracy: 0.9998\n",
      "Epoch 25/50\n",
      "512/512 [==============================] - 170s 333ms/step - loss: 3.8021e-04 - accuracy: 0.9999 - val_loss: 1.9378e-05 - val_accuracy: 1.0000\n",
      "Epoch 26/50\n",
      "512/512 [==============================] - 171s 333ms/step - loss: 0.0011 - accuracy: 0.9998 - val_loss: 0.0012 - val_accuracy: 0.9999\n",
      "Epoch 27/50\n",
      "512/512 [==============================] - 169s 330ms/step - loss: 2.4865e-04 - accuracy: 1.0000 - val_loss: 0.0013 - val_accuracy: 0.9999\n",
      "Epoch 28/50\n",
      "512/512 [==============================] - 171s 335ms/step - loss: 7.1686e-04 - accuracy: 0.9999 - val_loss: 6.4820e-05 - val_accuracy: 1.0000\n",
      "Epoch 29/50\n",
      "512/512 [==============================] - 169s 329ms/step - loss: 5.9147e-04 - accuracy: 0.9999 - val_loss: 9.2194e-04 - val_accuracy: 0.9999\n",
      "Epoch 30/50\n",
      "512/512 [==============================] - 170s 332ms/step - loss: 2.2411e-05 - accuracy: 1.0000 - val_loss: 2.2875e-04 - val_accuracy: 0.9999\n",
      "Epoch 31/50\n",
      "512/512 [==============================] - 170s 332ms/step - loss: 2.1189e-04 - accuracy: 1.0000 - val_loss: 3.8351e-04 - val_accuracy: 1.0000\n",
      "Epoch 32/50\n",
      "512/512 [==============================] - 173s 338ms/step - loss: 9.0500e-05 - accuracy: 1.0000 - val_loss: 0.0010 - val_accuracy: 0.9999\n",
      "Epoch 33/50\n",
      "512/512 [==============================] - 170s 333ms/step - loss: 4.7095e-04 - accuracy: 0.9999 - val_loss: 0.0021 - val_accuracy: 0.9996\n",
      "Epoch 34/50\n",
      "512/512 [==============================] - 170s 333ms/step - loss: 5.0032e-04 - accuracy: 0.9999 - val_loss: 3.7059e-04 - val_accuracy: 0.9999\n",
      "Epoch 35/50\n",
      "512/512 [==============================] - 173s 339ms/step - loss: 5.8175e-05 - accuracy: 1.0000 - val_loss: 8.7840e-04 - val_accuracy: 1.0000\n",
      "Epoch 36/50\n",
      "512/512 [==============================] - 173s 337ms/step - loss: 7.8992e-06 - accuracy: 1.0000 - val_loss: 1.2652e-04 - val_accuracy: 1.0000\n",
      "Epoch 37/50\n",
      "512/512 [==============================] - 171s 334ms/step - loss: 5.6604e-04 - accuracy: 0.9999 - val_loss: 4.5608e-06 - val_accuracy: 1.0000\n",
      "Epoch 38/50\n",
      "512/512 [==============================] - 170s 332ms/step - loss: 4.8409e-04 - accuracy: 0.9999 - val_loss: 1.8884e-04 - val_accuracy: 1.0000\n",
      "Epoch 39/50\n",
      "512/512 [==============================] - 171s 334ms/step - loss: 3.5656e-07 - accuracy: 1.0000 - val_loss: 3.3499e-04 - val_accuracy: 1.0000\n",
      "Epoch 40/50\n",
      "512/512 [==============================] - 170s 332ms/step - loss: 7.7221e-08 - accuracy: 1.0000 - val_loss: 3.3076e-04 - val_accuracy: 0.9999\n",
      "Epoch 41/50\n",
      "512/512 [==============================] - 169s 330ms/step - loss: 1.4426e-04 - accuracy: 1.0000 - val_loss: 0.0022 - val_accuracy: 0.9998\n",
      "Epoch 42/50\n",
      "512/512 [==============================] - 170s 332ms/step - loss: 4.6422e-06 - accuracy: 1.0000 - val_loss: 1.0083e-05 - val_accuracy: 1.0000\n",
      "Epoch 43/50\n",
      "512/512 [==============================] - 178s 347ms/step - loss: 9.1451e-04 - accuracy: 0.9999 - val_loss: 0.0020 - val_accuracy: 0.9999\n",
      "Epoch 44/50\n",
      "512/512 [==============================] - 177s 345ms/step - loss: 2.5438e-04 - accuracy: 1.0000 - val_loss: 3.3141e-04 - val_accuracy: 1.0000\n",
      "Epoch 45/50\n",
      "512/512 [==============================] - 178s 347ms/step - loss: 3.0016e-04 - accuracy: 1.0000 - val_loss: 3.1624e-04 - val_accuracy: 0.9999\n",
      "Epoch 46/50\n",
      "512/512 [==============================] - 177s 345ms/step - loss: 4.2806e-04 - accuracy: 0.9999 - val_loss: 7.2491e-04 - val_accuracy: 0.9999\n",
      "Epoch 47/50\n",
      "512/512 [==============================] - 171s 335ms/step - loss: 6.1265e-08 - accuracy: 1.0000 - val_loss: 8.4094e-04 - val_accuracy: 0.9999\n",
      "Epoch 48/50\n",
      "512/512 [==============================] - 172s 336ms/step - loss: 2.9266e-04 - accuracy: 1.0000 - val_loss: 7.3324e-04 - val_accuracy: 0.9999\n",
      "Epoch 49/50\n",
      "512/512 [==============================] - 175s 342ms/step - loss: 1.4627e-04 - accuracy: 1.0000 - val_loss: 0.0010 - val_accuracy: 0.9999\n",
      "Epoch 50/50\n",
      "512/512 [==============================] - 173s 338ms/step - loss: 9.4173e-05 - accuracy: 1.0000 - val_loss: 9.9774e-05 - val_accuracy: 0.9999\n"
     ]
    }
   ],
   "metadata": {}
  },
  {
   "cell_type": "code",
   "execution_count": 28,
   "source": [
    "import matplotlib.pyplot as plt\r\n",
    "%matplotlib inline\r\n",
    "\r\n",
    "acc,val_acc=model.evaluate(X_test,Y_test)"
   ],
   "outputs": [
    {
     "output_type": "stream",
     "name": "stdout",
     "text": [
      "878/878 [==============================] - 18s 21ms/step - loss: 9.9774e-05 - accuracy: 0.9999\n"
     ]
    }
   ],
   "metadata": {}
  },
  {
   "cell_type": "code",
   "execution_count": 29,
   "source": [
    "plt.plot(history.history['accuracy'])\r\n",
    "plt.plot(history.history['val_accuracy'])\r\n",
    "plt.title(\"Model Accuracy\")\r\n",
    "plt.xlabel('epoch')\r\n",
    "plt.ylabel('Accuracy')\r\n",
    "plt.legend(['train','test'])\r\n",
    "plt.show()"
   ],
   "outputs": [
    {
     "output_type": "display_data",
     "data": {
      "image/png": "[encoded data removed]",
      "text/plain": [
       "<Figure size 432x288 with 1 Axes>"
      ]
     },
     "metadata": {
      "needs_background": "light"
     }
    }
   ],
   "metadata": {}
  },
  {
   "cell_type": "code",
   "execution_count": 30,
   "source": [
    "model.save('./new_model23.h5')"
   ],
   "outputs": [],
   "metadata": {}
  },
  {
   "cell_type": "code",
   "execution_count": 31,
   "source": [
    "from keras.models import load_model\r\n"
   ],
   "outputs": [],
   "metadata": {}
  },
  {
   "cell_type": "code",
   "execution_count": 33,
   "source": [
    "m = load_model('./new_model23.h5')"
   ],
   "outputs": [],
   "metadata": {}
  },
  {
   "cell_type": "code",
   "execution_count": 34,
   "source": [
    "path='preprocessed_new'"
   ],
   "outputs": [],
   "metadata": {}
  },
  {
   "cell_type": "code",
   "execution_count": 35,
   "source": [
    "test_data = os.listdir(path)\r\n",
    "print(test_data)"
   ],
   "outputs": [
    {
     "output_type": "stream",
     "name": "stdout",
     "text": [
      "['0', '1', '2', '3', '4', '5', '6', '7', '8', '9', 'A', 'B', 'Best of luck', 'C', 'D', 'E', 'F', 'G', 'H', 'I', 'I Love you', 'J', 'K', 'L', 'Love', 'M', 'N', 'O', 'P', 'Q', 'R', 'S', 'T', 'U', 'V', 'W', 'X', 'Y', 'Z']\n"
     ]
    }
   ],
   "metadata": {}
  },
  {
   "cell_type": "code",
   "execution_count": 37,
   "source": [
    "x, y = [], []\r\n",
    "for ix in test_data:\r\n",
    "    images = os.listdir(path +'/'+ix)\r\n",
    "    for cx in range(1,201):\r\n",
    "        img_path = path+'/' + ix + '/' + str(cx) + '.jpg'\r\n",
    "        img = cv2.imread(img_path,0)\r\n",
    "        img = img.reshape((50,50,1))\r\n",
    "        img = img/255.0\r\n",
    "        x.append(img)\r\n",
    "        y.append(dict_labels.get(ix))"
   ],
   "outputs": [],
   "metadata": {}
  },
  {
   "cell_type": "code",
   "execution_count": 38,
   "source": [
    "X_t = np.array(x)\r\n",
    "y_t = np.array(y)\r\n",
    "Y_t = np_utils.to_categorical(y_t)"
   ],
   "outputs": [],
   "metadata": {}
  },
  {
   "cell_type": "code",
   "execution_count": 39,
   "source": [
    "X_t.shape"
   ],
   "outputs": [
    {
     "output_type": "execute_result",
     "data": {
      "text/plain": [
       "(7800, 50, 50, 1)"
      ]
     },
     "metadata": {},
     "execution_count": 39
    }
   ],
   "metadata": {}
  },
  {
   "cell_type": "code",
   "execution_count": 40,
   "source": [
    "y_pred = m.predict(X_t)"
   ],
   "outputs": [],
   "metadata": {}
  },
  {
   "cell_type": "code",
   "execution_count": 41,
   "source": [
    "from sklearn.metrics import accuracy_score"
   ],
   "outputs": [],
   "metadata": {}
  },
  {
   "cell_type": "code",
   "execution_count": 42,
   "source": [
    "accuracy_score(Y_t, y_pred.round())"
   ],
   "outputs": [
    {
     "output_type": "execute_result",
     "data": {
      "text/plain": [
       "0.9998717948717949"
      ]
     },
     "metadata": {},
     "execution_count": 42
    }
   ],
   "metadata": {}
  },
  {
   "cell_type": "code",
   "execution_count": 43,
   "source": [
    "from sklearn.metrics import classification_report, confusion_matrix"
   ],
   "outputs": [],
   "metadata": {}
  },
  {
   "cell_type": "code",
   "execution_count": 44,
   "source": [
    "print(classification_report(y_pred.round(), Y_t))"
   ],
   "outputs": [
    {
     "output_type": "stream",
     "name": "stdout",
     "text": [
      "              precision    recall  f1-score   support\n",
      "\n",
      "           0       0.00      0.00      0.00         0\n",
      "           1       1.00      1.00      1.00       200\n",
      "           2       1.00      1.00      1.00       200\n",
      "           3       1.00      1.00      1.00       200\n",
      "           4       1.00      1.00      1.00       200\n",
      "           5       1.00      1.00      1.00       200\n",
      "           6       1.00      1.00      1.00       200\n",
      "           7       1.00      1.00      1.00       200\n",
      "           8       1.00      1.00      1.00       200\n",
      "           9       1.00      1.00      1.00       200\n",
      "          10       1.00      1.00      1.00       200\n",
      "          11       1.00      1.00      1.00       200\n",
      "          12       1.00      1.00      1.00       200\n",
      "          13       1.00      1.00      1.00       200\n",
      "          14       1.00      1.00      1.00       200\n",
      "          15       1.00      1.00      1.00       200\n",
      "          16       1.00      1.00      1.00       200\n",
      "          17       1.00      1.00      1.00       200\n",
      "          18       1.00      1.00      1.00       200\n",
      "          19       1.00      1.00      1.00       200\n",
      "          20       1.00      1.00      1.00       200\n",
      "          21       1.00      1.00      1.00       200\n",
      "          22       1.00      1.00      1.00       200\n",
      "          23       1.00      1.00      1.00       200\n",
      "          24       1.00      1.00      1.00       200\n",
      "          25       1.00      1.00      1.00       200\n",
      "          26       0.99      1.00      1.00       199\n",
      "          27       1.00      1.00      1.00       200\n",
      "          28       1.00      1.00      1.00       200\n",
      "          29       1.00      1.00      1.00       200\n",
      "          30       1.00      1.00      1.00       200\n",
      "          31       1.00      1.00      1.00       200\n",
      "          32       1.00      1.00      1.00       201\n",
      "          33       1.00      1.00      1.00       200\n",
      "          34       1.00      1.00      1.00       200\n",
      "          35       1.00      1.00      1.00       200\n",
      "          36       1.00      1.00      1.00       200\n",
      "          37       1.00      1.00      1.00       200\n",
      "          38       1.00      1.00      1.00       200\n",
      "          39       1.00      1.00      1.00       200\n",
      "\n",
      "   micro avg       1.00      1.00      1.00      7800\n",
      "   macro avg       0.97      0.97      0.97      7800\n",
      "weighted avg       1.00      1.00      1.00      7800\n",
      " samples avg       1.00      1.00      1.00      7800\n",
      "\n"
     ]
    },
    {
     "output_type": "stream",
     "name": "stderr",
     "text": [
      "C:\\Users\\khand\\AppData\\Roaming\\Python\\Python39\\site-packages\\sklearn\\metrics\\_classification.py:1248: UndefinedMetricWarning: Precision and F-score are ill-defined and being set to 0.0 in labels with no predicted samples. Use `zero_division` parameter to control this behavior.\n",
      "  _warn_prf(average, modifier, msg_start, len(result))\n",
      "C:\\Users\\khand\\AppData\\Roaming\\Python\\Python39\\site-packages\\sklearn\\metrics\\_classification.py:1248: UndefinedMetricWarning: Recall and F-score are ill-defined and being set to 0.0 in labels with no true samples. Use `zero_division` parameter to control this behavior.\n",
      "  _warn_prf(average, modifier, msg_start, len(result))\n"
     ]
    }
   ],
   "metadata": {}
  },
  {
   "cell_type": "code",
   "execution_count": null,
   "source": [],
   "outputs": [],
   "metadata": {}
  }
 ],
 "metadata": {
  "kernelspec": {
   "name": "python3",
   "display_name": "Python 3.9.7 64-bit"
  },
  "language_info": {
   "codemirror_mode": {
    "name": "ipython",
    "version": 3
   },
   "file_extension": ".py",
   "mimetype": "text/x-python",
   "name": "python",
   "nbconvert_exporter": "python",
   "pygments_lexer": "ipython3",
   "version": "3.9.7"
  },
  "interpreter": {
   "hash": "ac59ebe37160ed0dfa835113d9b8498d9f09ceb179beaac4002f036b9467c963"
  }
 },
 "nbformat": 4,
 "nbformat_minor": 2
}